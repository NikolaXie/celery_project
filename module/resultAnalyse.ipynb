{
 "cells": [
  {
   "cell_type": "code",
   "execution_count": 3,
   "metadata": {},
   "outputs": [
    {
     "name": "stderr",
     "output_type": "stream",
     "text": [
      "C:\\MyProgram\\lib\\site-packages\\gensim\\utils.py:1209: UserWarning: detected Windows; aliasing chunkize to chunkize_serial\n",
      "  warnings.warn(\"detected Windows; aliasing chunkize to chunkize_serial\")\n"
     ]
    }
   ],
   "source": [
    "from HotWord import TextsAnalyse\n",
    "from pymongo import MongoClient\n",
    "from dateutil import parser\n",
    "import datetime"
   ]
  },
  {
   "cell_type": "code",
   "execution_count": 4,
   "metadata": {},
   "outputs": [],
   "source": [
    "#数据库连接\n",
    "client = MongoClient()\n",
    "db = client['news']"
   ]
  },
  {
   "cell_type": "code",
   "execution_count": 5,
   "metadata": {},
   "outputs": [],
   "source": [
    "def cal_richness(deltaSize = 7):\n",
    "    previous = []\n",
    "    #分析的总时间段\n",
    "    startTime = datetime.datetime(2018, 6, 1)\n",
    "    endTime = datetime.datetime(2018, 7, 30)\n",
    "    #窗口大小\n",
    "    delta = datetime.timedelta(days=deltaSize)\n",
    "\n",
    "    total, new = 0, 0\n",
    "    while startTime < endTime:\n",
    "#         print(\"起始时间:%s, 终止时间:%s\" % (startTime, startTime + delta))\n",
    "        #根据时间窗口查询百度新闻数据\n",
    "        baiduTitleData = db.baiduNews.find(\n",
    "            { \"time\" : { \"$gte\" : startTime, \"$lt\" : startTime + delta } },\n",
    "            {\"title\":1, \"_id\":0}\n",
    "        )\n",
    "        baiduTitles = [each['title'] for each in baiduTitleData]\n",
    "\n",
    "        #根据时间窗口查询36氪数据\n",
    "        krTitleData = db.allKr.find(\n",
    "            { \"time\" : { \"$gte\" : startTime, \"$lt\" : startTime + delta } },\n",
    "            {\"title\":1, \"_id\":0}\n",
    "        )\n",
    "        krTitles = [each['title'] for each in krTitleData]\n",
    "\n",
    "        #数据汇总\n",
    "        titles = baiduTitles + krTitles\n",
    "\n",
    "#         print('百度新闻：',len(baiduTitles))\n",
    "#         print('36氪：', len(krTitles))\n",
    "\n",
    "        analyser = TextsAnalyse(titles)\n",
    "#         analyser.show_word_cloud(30)\n",
    "        keyWords = analyser.get_key_words(30)\n",
    "        newWords = list(set(keyWords).difference(set(previous)))\n",
    "        new += len(newWords)\n",
    "        total += 30\n",
    "#         print(\"\\nnew words:\")\n",
    "#         print(newWords)\n",
    "        previous = keyWords\n",
    "#         print('\\n------------------------------------------------------------------------------\\n')\n",
    "        startTime += delta\n",
    "    return new / total"
   ]
  },
  {
   "cell_type": "code",
   "execution_count": 11,
   "metadata": {},
   "outputs": [
    {
     "name": "stdout",
     "output_type": "stream",
     "text": [
      "1 0.7293785310734463\n",
      "2 0.6455555555555555\n",
      "3 0.5716666666666667\n",
      "4 0.48444444444444446\n",
      "5 0.45555555555555555\n",
      "6 0.43666666666666665\n",
      "7 0.4444444444444444\n",
      "8 0.4375\n",
      "9 0.4666666666666667\n",
      "10 0.45\n"
     ]
    }
   ],
   "source": [
    "l = []\n",
    "for i in range(1,11):\n",
    "    x = cal_richness(i)\n",
    "    print(i,x)\n",
    "    l.append(x)"
   ]
  },
  {
   "cell_type": "code",
   "execution_count": 12,
   "metadata": {},
   "outputs": [
    {
     "data": {
      "image/png": "[encoded data removed]",
      "text/plain": [
       "<Figure size 432x288 with 1 Axes>"
      ]
     },
     "metadata": {},
     "output_type": "display_data"
    }
   ],
   "source": [
    "import matplotlib.pyplot as plt\n",
    "\n",
    "plt.bar(range(len(l)), l)\n",
    "plt.show()"
   ]
  },
  {
   "cell_type": "code",
   "execution_count": null,
   "metadata": {},
   "outputs": [],
   "source": []
  }
 ],
 "metadata": {
  "kernelspec": {
   "display_name": "Python 3",
   "language": "python",
   "name": "python3"
  },
  "language_info": {
   "codemirror_mode": {
    "name": "ipython",
    "version": 3
   },
   "file_extension": ".py",
   "mimetype": "text/x-python",
   "name": "python",
   "nbconvert_exporter": "python",
   "pygments_lexer": "ipython3",
   "version": "3.6.5"
  }
 },
 "nbformat": 4,
 "nbformat_minor": 2
}
